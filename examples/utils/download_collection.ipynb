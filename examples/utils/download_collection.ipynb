{
 "cells": [
  {
   "cell_type": "code",
   "execution_count": 1,
   "metadata": {},
   "outputs": [
    {
     "name": "stderr",
     "output_type": "stream",
     "text": [
      "/Users/tsalo/anaconda/envs/python3/lib/python3.6/site-packages/h5py/__init__.py:34: FutureWarning: Conversion of the second argument of issubdtype from `float` to `np.floating` is deprecated. In future, it will be treated as `np.float64 == np.dtype(float).type`.\n",
      "  from ._conv import register_converters as _register_converters\n"
     ]
    }
   ],
   "source": [
    "import os\n",
    "import os.path as op\n",
    "import shutil\n",
    "import zipfile\n",
    "import requests\n",
    "from glob import glob\n",
    "\n",
    "from nimare.utils import get_resource_path"
   ]
  },
  {
   "cell_type": "code",
   "execution_count": 2,
   "metadata": {},
   "outputs": [],
   "source": [
    "def download_file(url):\n",
    "    local_filename = url.split('/')[-1]\n",
    "    # NOTE the stream=True parameter\n",
    "    r = requests.get(url, stream=True)\n",
    "    with open(local_filename, 'wb') as f:\n",
    "        for chunk in r.iter_content(chunk_size=1024): \n",
    "            if chunk: # filter out keep-alive new chunks\n",
    "                f.write(chunk)\n",
    "    return local_filename"
   ]
  },
  {
   "cell_type": "code",
   "execution_count": 3,
   "metadata": {},
   "outputs": [],
   "source": [
    "coll = '1425'\n",
    "url = 'https://neurovault.org/collections/{0}/download'.format(coll)\n",
    "out_dir = op.join(get_resource_path(),\n",
    "                  'data/neurovault-data/collection-{0}'.format(coll))"
   ]
  },
  {
   "cell_type": "code",
   "execution_count": 4,
   "metadata": {},
   "outputs": [],
   "source": [
    "os.makedirs(out_dir, exist_ok=True)\n",
    "\n",
    "# Download\n",
    "fname = download_file(url)\n",
    "\n",
    "# Unzip\n",
    "with zipfile.ZipFile(fname, 'r') as zip_ref:\n",
    "    zip_ref.extractall(out_dir)\n",
    "\n",
    "collection_folders = [f for f in glob(op.join(out_dir, '*'))\n",
    "                      if '.nidm' not in f]\n",
    "collection_folders = [f for f in collection_folders if op.isdir(f)]\n",
    "if len(collection_folders) > 1:\n",
    "    raise Exception('More than one folder found: '\n",
    "                    '{0}'.format(', '.join(collection_folders)))\n",
    "else:\n",
    "    folder = collection_folders[0]\n",
    "zip_files = glob(op.join(folder, '*.zip'))\n",
    "for zf in zip_files:\n",
    "    fn = op.splitext(op.basename(zf))[0]\n",
    "    with zipfile.ZipFile(zf, 'r') as zip_ref:\n",
    "        zip_ref.extractall(op.join(out_dir, fn))\n",
    "        \n",
    "os.remove(fname)\n",
    "shutil.rmtree(folder)"
   ]
  },
  {
   "cell_type": "code",
   "execution_count": null,
   "metadata": {},
   "outputs": [],
   "source": []
  }
 ],
 "metadata": {
  "kernelspec": {
   "display_name": "Python [conda env:python3]",
   "language": "python",
   "name": "conda-env-python3-py"
  },
  "language_info": {
   "codemirror_mode": {
    "name": "ipython",
    "version": 3
   },
   "file_extension": ".py",
   "mimetype": "text/x-python",
   "name": "python",
   "nbconvert_exporter": "python",
   "pygments_lexer": "ipython3",
   "version": "3.6.4"
  }
 },
 "nbformat": 4,
 "nbformat_minor": 2
}
