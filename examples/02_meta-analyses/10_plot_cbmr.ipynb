{
  "cells": [
    {
      "cell_type": "code",
      "execution_count": null,
      "metadata": {
        "collapsed": false
      },
      "outputs": [],
      "source": [
        "%matplotlib inline"
      ]
    },
    {
      "cell_type": "markdown",
      "metadata": {},
      "source": [
        "\n",
        "# Coordinate-based meta-regression algorithms\n",
        "\n",
        "A tour of CBMR algorithms in NiMARE\n",
        "\n",
        "This tutorial is intended to provide a brief description and example of the CBMR\n",
        "algorithm implemented in NiMARE. For a more detailed introduction to the elements\n",
        "of a coordinate-based meta-regression, see other stuff.\n"
      ]
    },
    {
      "cell_type": "code",
      "execution_count": null,
      "metadata": {
        "collapsed": false
      },
      "outputs": [],
      "source": [
        "from nimare.tests.utils import standardize_field\n",
        "from nimare.meta import models\n",
        "\n",
        "from nilearn.plotting import plot_stat_map\n",
        "from nimare.generate import create_coordinate_dataset\n",
        "\n",
        "import numpy as np\n",
        "import scipy"
      ]
    },
    {
      "cell_type": "markdown",
      "metadata": {},
      "source": [
        "## Load Dataset\n",
        "\n"
      ]
    },
    {
      "cell_type": "code",
      "execution_count": null,
      "metadata": {
        "collapsed": false
      },
      "outputs": [],
      "source": [
        "# data simulation\n",
        "ground_truth_foci, dset = create_coordinate_dataset(foci=10, sample_size=(20, 40), n_studies=1000)\n",
        "# set up group columns: diagnosis & drug_status\n",
        "n_rows = dset.annotations.shape[0]\n",
        "dset.annotations[\"diagnosis\"] = [\n",
        "    \"schizophrenia\" if i % 2 == 0 else \"depression\" for i in range(n_rows)\n",
        "]\n",
        "dset.annotations[\"drug_status\"] = [\"Yes\" if i % 2 == 0 else \"No\" for i in range(n_rows)]\n",
        "dset.annotations[\"drug_status\"] = (\n",
        "    dset.annotations[\"drug_status\"].sample(frac=1).reset_index(drop=True)\n",
        ")  # random shuffle drug_status column\n",
        "# set up continuous moderators: sample sizes & avg_age\n",
        "dset.annotations[\"sample_sizes\"] = [dset.metadata.sample_sizes[i][0] for i in range(n_rows)]\n",
        "dset.annotations[\"avg_age\"] = np.arange(n_rows)\n",
        "# set up categorical moderators: schizophrenia_subtype (as not enough data to be interpreted\n",
        "# as groups)\n",
        "dset.annotations[\"schizophrenia_subtype\"] = [\"type1\", \"type2\", \"type3\", \"type4\", \"type5\"] * int(\n",
        "    n_rows / 5\n",
        ")\n",
        "dset.annotations[\"schizophrenia_subtype\"] = (\n",
        "    dset.annotations[\"schizophrenia_subtype\"].sample(frac=1).reset_index(drop=True)\n",
        ")  # random shuffle drug_status column"
      ]
    },
    {
      "cell_type": "markdown",
      "metadata": {},
      "source": [
        "## Estimation of group-specific spatial intensity functions\n",
        "Unlike kernel-based CBMR methods (e.g. ALE, MKDA and SDM), CBMR provides a\n",
        "generative regression model that estimates a smooth intensity function and\n",
        "can have study-level moderators. It's developed with a spatial model to\n",
        "induce a smooth response and model the entire image jointly, and fitted with\n",
        "different variants of statistical distributions (Poisson, Negative Binomial\n",
        "(NB) or Clustered NB model) to find the most accurate but parsimonious model.\n",
        "\n",
        "CBMR framework can generate estimation of group-specific spatial internsity\n",
        "functions for multiple groups simultaneously, with different group-specific\n",
        "spatial regression coefficients.\n",
        "\n",
        "CBMR framework can also consider the effects of study-level moderators\n",
        "(e.g. sample size, year of publication) by estimating regression coefficients\n",
        "of moderators (shared by all groups). Note that moderators can only have global\n",
        "effects instead of localized effects within CBMR framework. In the scenario\n",
        "that there're multiple subgroups within a group, while one or more of them don't\n",
        "have enough number of studies to be inferred as a separate group, CBMR can\n",
        "interpret them as categorical study-level moderators.\n",
        "\n"
      ]
    },
    {
      "cell_type": "code",
      "execution_count": null,
      "metadata": {
        "collapsed": false
      },
      "outputs": [],
      "source": [
        "from nimare.meta.cbmr import CBMREstimator\n",
        "\n",
        "dset = standardize_field(dataset=dset, metadata=[\"sample_sizes\", \"avg_age\"])\n",
        "cbmr = CBMREstimator(\n",
        "    group_categories=[\"diagnosis\", \"drug_status\"],\n",
        "    moderators=[\n",
        "        \"standardized_sample_sizes\",\n",
        "        \"standardized_avg_age\",\n",
        "        \"schizophrenia_subtype:reference=type1\",\n",
        "    ],\n",
        "    spline_spacing=10,\n",
        "    model=models.PoissonEstimator,\n",
        "    penalty=False,\n",
        "    lr=1e-1,\n",
        "    tol=1e1,\n",
        "    device=\"cpu\",\n",
        ")\n",
        "results = cbmr.fit(dataset=dset)\n",
        "plot_stat_map(\n",
        "    results.get_map(\"Group_schizophrenia_Yes_Studywise_Spatial_Intensity\"),\n",
        "    cut_coords=[0, 0, -8],\n",
        "    draw_cross=False,\n",
        "    cmap=\"RdBu_r\",\n",
        "    title=\"schizophrenia_Yes\",\n",
        "    threshold=1e-4,\n",
        ")\n",
        "plot_stat_map(\n",
        "    results.get_map(\"Group_schizophrenia_No_Studywise_Spatial_Intensity\"),\n",
        "    cut_coords=[0, 0, -8],\n",
        "    draw_cross=False,\n",
        "    cmap=\"RdBu_r\",\n",
        "    title=\"schizophrenia_No\",\n",
        "    threshold=1e-4,\n",
        ")\n",
        "plot_stat_map(\n",
        "    results.get_map(\"Group_depression_Yes_Studywise_Spatial_Intensity\"),\n",
        "    cut_coords=[0, 0, -8],\n",
        "    draw_cross=False,\n",
        "    cmap=\"RdBu_r\",\n",
        "    title=\"depression_Yes\",\n",
        "    threshold=1e-4,\n",
        ")\n",
        "plot_stat_map(\n",
        "    results.get_map(\"Group_depression_No_Studywise_Spatial_Intensity\"),\n",
        "    cut_coords=[0, 0, -8],\n",
        "    draw_cross=False,\n",
        "    cmap=\"RdBu_r\",\n",
        "    title=\"depression_No\",\n",
        "    threshold=1e-4,\n",
        ")"
      ]
    },
    {
      "cell_type": "markdown",
      "metadata": {},
      "source": [
        "Four figures correspond to group-specific spatial intensity map of four groups\n",
        "(\"schizophrenia_Yes\", \"schizophrenia_No\", \"depression_Yes\", \"depression_No\").\n",
        "Areas with stronger spatial intensity are highlighted.\n",
        "\n"
      ]
    },
    {
      "cell_type": "markdown",
      "metadata": {},
      "source": [
        "## Generalized Linear Hypothesis (GLH) testing for spatial homogeneity\n",
        "In the most basic scenario of spatial homogeneity test, contrast matrix `t_con_groups`\n",
        "can be generated by `create_contrast` function, with group names specified.\n",
        "\n"
      ]
    },
    {
      "cell_type": "code",
      "execution_count": null,
      "metadata": {
        "collapsed": false
      },
      "outputs": [],
      "source": [
        "from nimare.meta.cbmr import CBMRInference\n",
        "from nimare.correct import FWECorrector\n",
        "\n",
        "inference = CBMRInference(CBMRResults=results, device=\"cuda\")\n",
        "t_con_groups = inference.create_contrast(\n",
        "    [\"schizophrenia_Yes\", \"schizophrenia_No\", \"depression_Yes\", \"depression_No\"], type=\"groups\"\n",
        ")\n",
        "contrast_result = inference.compute_contrast(t_con_groups=t_con_groups, t_con_moderators=False)\n",
        "\n",
        "# generate chi-square maps for each group\n",
        "plot_stat_map(\n",
        "    results.get_map(\"schizophrenia_Yes_z_statistics\"),\n",
        "    cut_coords=[0, 0, -8],\n",
        "    draw_cross=False,\n",
        "    cmap=\"RdBu_r\",\n",
        "    title=\"schizophrenia_Yes\",\n",
        "    threshold=scipy.stats.norm.isf(0.05),\n",
        ")\n",
        "\n",
        "plot_stat_map(\n",
        "    results.get_map(\"schizophrenia_No_z_statistics\"),\n",
        "    cut_coords=[0, 0, -8],\n",
        "    draw_cross=False,\n",
        "    cmap=\"RdBu_r\",\n",
        "    title=\"schizophrenia_No\",\n",
        "    threshold=scipy.stats.norm.isf(0.05),\n",
        ")\n",
        "\n",
        "plot_stat_map(\n",
        "    results.get_map(\"depression_Yes_z_statistics\"),\n",
        "    cut_coords=[0, 0, -8],\n",
        "    draw_cross=False,\n",
        "    cmap=\"RdBu_r\",\n",
        "    title=\"depression_Yes\",\n",
        "    threshold=scipy.stats.norm.isf(0.05),\n",
        ")\n",
        "\n",
        "plot_stat_map(\n",
        "    results.get_map(\"depression_No_z_statistics\"),\n",
        "    cut_coords=[0, 0, -8],\n",
        "    draw_cross=False,\n",
        "    cmap=\"RdBu_r\",\n",
        "    title=\"depression_No\",\n",
        "    threshold=scipy.stats.norm.isf(0.05),\n",
        ")"
      ]
    },
    {
      "cell_type": "markdown",
      "metadata": {},
      "source": [
        "Four figures (displayed as z-statistics map) correspond to homogeneity test of\n",
        "group-specific spatial intensity for four groups. The null hypothesis assumes\n",
        "homogeneous spatial intensity over the whole brain,\n",
        "$H_0: \\mu_j = \\mu_0 = sum(n_{\\text{foci}})/N$, $j=1, \\cdots, N$, where $N$ is\n",
        "the number of voxels within brain mask, $j$ is the index of voxel. Areas with\n",
        "significant p-values are highlighted (under significance level $0.05$).\n",
        "\n"
      ]
    },
    {
      "cell_type": "markdown",
      "metadata": {},
      "source": [
        "## GLH testing for group comparisons among any two groups\n",
        "In the most basic scenario of group comparison test, contrast matrix `t_con_groups`\n",
        "can be generated by `create_contrast` function, with `contrast_name` specified as\n",
        "\"group1-group2\".\n",
        "\n"
      ]
    },
    {
      "cell_type": "code",
      "execution_count": null,
      "metadata": {
        "collapsed": false
      },
      "outputs": [],
      "source": [
        "inference = CBMRInference(CBMRResults=results, device=\"cuda\")\n",
        "t_con_groups = inference.create_contrast(\n",
        "    [\n",
        "        \"schizophrenia_Yes-schizophrenia_No\",\n",
        "        \"schizophrenia_No-depression_Yes\",\n",
        "        \"depression_Yes-depression_No\",\n",
        "    ],\n",
        "    type=\"groups\",\n",
        ")\n",
        "contrast_result = inference.compute_contrast(t_con_groups=t_con_groups, t_con_moderators=False)\n",
        "\n",
        "# generate z-statistics maps for each group\n",
        "plot_stat_map(\n",
        "    results.get_map(\"schizophrenia_Yes-schizophrenia_No_z_statistics\"),\n",
        "    cut_coords=[0, 0, -8],\n",
        "    draw_cross=False,\n",
        "    cmap=\"RdBu_r\",\n",
        "    title=\"schizophrenia_Yes\",\n",
        "    threshold=scipy.stats.norm.isf(0.4),\n",
        ")\n",
        "\n",
        "plot_stat_map(\n",
        "    results.get_map(\"schizophrenia_No-depression_Yes_z_statistics\"),\n",
        "    cut_coords=[0, 0, -8],\n",
        "    draw_cross=False,\n",
        "    cmap=\"RdBu_r\",\n",
        "    title=\"schizophrenia_No\",\n",
        "    threshold=scipy.stats.norm.isf(0.4),\n",
        ")\n",
        "\n",
        "plot_stat_map(\n",
        "    results.get_map(\"depression_Yes-depression_No_z_statistics\"),\n",
        "    cut_coords=[0, 0, -8],\n",
        "    draw_cross=False,\n",
        "    cmap=\"RdBu_r\",\n",
        "    title=\"depression_Yes\",\n",
        "    threshold=scipy.stats.norm.isf(0.4),\n",
        ")"
      ]
    },
    {
      "cell_type": "markdown",
      "metadata": {},
      "source": [
        "Four figures (displayed as z-statistics map) correspond to group comparison\n",
        "test of spatial intensity for any two groups. The null hypothesis assumes\n",
        "spatial intensity estimations of two groups are equal at voxel level,\n",
        "$H_0: \\mu_{1j}=\\mu_{2j}$, $j=1, \\cdots, N$, where $N$ is the number of voxels\n",
        "within brain mask, $j$ is the index of voxel. Areas with significant p-values\n",
        "(significant difference in spatial intensity estimation between two groups)\n",
        "are highlighted (under significance level $0.05$).\n",
        "\n"
      ]
    },
    {
      "cell_type": "markdown",
      "metadata": {},
      "source": [
        "## GLH testing with contrast matrix specified\n",
        "CBMR supports more flexible GLH test by specifying a contrast matrix.\n",
        "For example, group comparison test `2xgroup_0-1xgroup_1-1xgroup_2` can be\n",
        "represented as `t_con_group=[2, -1, -1, 0]`, as an input in `compute_contrast`\n",
        "function. Multiple independent GLH tests can be conducted simultaneously by\n",
        "including multiple contrast vectors/matrices in `t_con_group`.\n",
        "\n",
        "CBMR also allows simultaneous GLH tests (consisting of multiple contrast vectors)\n",
        "when it's represented as one of elements in `t_con_group` (datatype: list).\n",
        "Only if all of null hypotheses are rejected at voxel level, p-values are significant.\n",
        "For example, `t_con_group=[[1,-1,0,0], [1,0,-1,0], [0,0,1,-1]]` is used for testing\n",
        "the equality of spatial intensity estimation among all of four groups (finding the\n",
        "consistent activation regions). Note that only $n-1$ contrast vectors are necessary\n",
        "for testing the equality of $n$ groups.\n",
        "\n"
      ]
    },
    {
      "cell_type": "code",
      "execution_count": null,
      "metadata": {
        "collapsed": false
      },
      "outputs": [],
      "source": [
        "inference = CBMRInference(CBMRResults=results, device=\"cuda\")\n",
        "contrast_result = inference.compute_contrast(\n",
        "    t_con_groups=[[[1, -1, 0, 0], [1, 0, -1, 0], [0, 0, 1, -1]]], t_con_moderators=False\n",
        ")\n",
        "plot_stat_map(\n",
        "    results.get_map(\"GLH_groups_0_z_statistics\"),\n",
        "    cut_coords=[0, 0, -8],\n",
        "    draw_cross=False,\n",
        "    cmap=\"RdBu_r\",\n",
        "    title=\"GLH_groups_0\",\n",
        "    threshold=scipy.stats.norm.isf(0.4),\n",
        ")\n",
        "print(\"The contrast matrix of GLH_0 is {}\".format(results.metadata[\"GLH_groups_0\"]))"
      ]
    },
    {
      "cell_type": "markdown",
      "metadata": {},
      "source": [
        "## GLH testing for study-level moderators\n",
        "CBMR framework can estimate global study-level moderator effects,\n",
        "and allows inference on the existence of m.\n",
        "\n"
      ]
    },
    {
      "cell_type": "code",
      "execution_count": null,
      "metadata": {
        "collapsed": false
      },
      "outputs": [],
      "source": [
        "inference = CBMRInference(CBMRResults=results, device=\"cuda\")\n",
        "contrast_name = results.estimator.moderators\n",
        "t_con_moderators = inference.create_contrast(contrast_name, type=\"moderators\")\n",
        "contrast_result = inference.compute_contrast(t_con_groups=False, t_con_moderators=t_con_moderators)\n",
        "print(results.tables[\"Moderators_Regression_Coef\"])\n",
        "print(\n",
        "    \"P-values of moderator effects `sample_sizes` is {}\".format(\n",
        "        results.tables[\"standardized_sample_sizes_p_values\"]\n",
        "    )\n",
        ")\n",
        "print(\n",
        "    \"P-value of moderator effects `avg_age` is {}\".format(\n",
        "        results.tables[\"standardized_avg_age_p_values\"]\n",
        "    )\n",
        ")"
      ]
    },
    {
      "cell_type": "markdown",
      "metadata": {},
      "source": [
        "This table shows the regression coefficients of study-level moderators, here,\n",
        "`sample_sizes` and `avg_age` are standardized in the preprocessing steps.\n",
        "Moderator effects of both `sample_size` and `avg_age` are not significant under\n",
        "significance level $0.05$. With reference to spatial intensity estimation of\n",
        "a chosen subtype, spatial intensity estimations of the other $4$ subtypes of\n",
        "schizophrenia are moderatored globally.\n",
        "\n"
      ]
    },
    {
      "cell_type": "code",
      "execution_count": null,
      "metadata": {
        "collapsed": false
      },
      "outputs": [],
      "source": [
        "inference = CBMRInference(CBMRResults=results, device=\"cuda\")\n",
        "t_con_moderators = inference.create_contrast(\n",
        "    [\"standardized_sample_sizes-standardized_avg_age\"], type=\"moderators\"\n",
        ")\n",
        "contrast_result = inference.compute_contrast(t_con_groups=False, t_con_moderators=t_con_moderators)\n",
        "print(\n",
        "    \"P-values of difference in two moderator effectors (`sample_size-avg_age`) is {}\".format(\n",
        "        results.tables[\"standardized_sample_sizes-standardized_avg_age_p_values\"]\n",
        "    )\n",
        ")"
      ]
    },
    {
      "cell_type": "markdown",
      "metadata": {},
      "source": [
        "CBMR also allows flexible contrasts between study-level covariates.\n",
        "For example, we can write `contrast_name` (an input to `create_contrast`\n",
        "function) as `standardized_sample_sizes-standardized_avg_age` when exploring\n",
        "if the moderator effects of `sample_sizes` and `avg_age` are equivalent.\n",
        "\n"
      ]
    }
  ],
  "metadata": {
    "kernelspec": {
      "display_name": "torch",
      "language": "python",
      "name": "python3"
    },
    "language_info": {
      "codemirror_mode": {
        "name": "ipython",
        "version": 3
      },
      "file_extension": ".py",
      "mimetype": "text/x-python",
      "name": "python",
      "nbconvert_exporter": "python",
      "pygments_lexer": "ipython3",
      "version": "3.8.8 (default, Feb 24 2021, 21:46:12) \n[GCC 7.3.0]"
    },
    "vscode": {
      "interpreter": {
        "hash": "1822150571db9db4b0bedbbf655c662224d8f689079b98305ee946f83c67882c"
      }
    }
  },
  "nbformat": 4,
  "nbformat_minor": 0
}
