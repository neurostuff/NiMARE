{
  "cells": [
    {
      "cell_type": "code",
      "execution_count": null,
      "metadata": {
        "collapsed": false
      },
      "outputs": [],
      "source": [
        "%matplotlib inline"
      ]
    },
    {
      "cell_type": "markdown",
      "metadata": {},
      "source": [
        "\n\n# Coordinate-based meta-regression algorithms\n\nA tour of Coordinate-based meta-regression (CBMR) algorithms in NiMARE\n\nCBMR is a generative framework to approximate smooth activation intensity function\nand investigate the effect of study-level moderators (e.g., year of pubilication,\nsample size, subtype of stimuli). CBMR considers three stochastic models (Poisson,\nNegative Binomial (NB) and Clustered NB) for modeling the random variation in foci,\nand allows flexible statistical inference for either spatial homogeneity tests or\ngroup comparison tests. It is a computationally efficient approach with\ngood statistical interpretability to model the locations of activation foci.\n\nThis tutorial is intended to provide a brief description and example of the CBMR\nalgorithm implemented in NiMARE.\n\nFor a more detailed introduction to the elements of a coordinate-based meta-regression, \nsee other stuff.\n"
      ]
    },
    {
      "cell_type": "code",
      "execution_count": null,
      "metadata": {
        "collapsed": false
      },
      "outputs": [],
      "source": [
        "import numpy as np\nimport scipy\nfrom nilearn.plotting import plot_stat_map\n\nfrom nimare.generate import create_coordinate_dataset\nfrom nimare.meta import models\nfrom nimare.transforms import StandardizeField"
      ]
    },
    {
      "cell_type": "markdown",
      "metadata": {},
      "source": [
        "## Load Dataset\nHere, we're going to simulate a dataset (using `nimare.generate.create_coordinate_dataset`)\nthat includes 100 studies, each with 10 reported foci and sample size varying between\n20 and 40. We separate them into four groups according to diagnosis (schizophrenia or depression)\nand drug status (Yes or No). We also add two continuous study-level moderators (sample size and \naverage age) and a categorical study-level moderator (schizophrenia subtype).\n\n"
      ]
    },
    {
      "cell_type": "code",
      "execution_count": null,
      "metadata": {
        "collapsed": false
      },
      "outputs": [],
      "source": [
        "# data simulation\nground_truth_foci, dset = create_coordinate_dataset(foci=10, sample_size=(20, 40), n_studies=1000)\n# set up group columns: diagnosis & drug_status\nn_rows = dset.annotations.shape[0]\ndset.annotations[\"diagnosis\"] = [\n    \"schizophrenia\" if i % 2 == 0 else \"depression\" for i in range(n_rows)\n]\ndset.annotations[\"drug_status\"] = [\"Yes\" if i % 2 == 0 else \"No\" for i in range(n_rows)]\ndset.annotations[\"drug_status\"] = (\n    dset.annotations[\"drug_status\"].sample(frac=1).reset_index(drop=True)\n)  # random shuffle drug_status column\n# set up continuous moderators: sample sizes & avg_age\ndset.annotations[\"sample_sizes\"] = [dset.metadata.sample_sizes[i][0] for i in range(n_rows)]\ndset.annotations[\"avg_age\"] = np.arange(n_rows)\n# set up categorical moderators: schizophrenia_subtype (as not enough data to be interpreted\n# as groups)\ndset.annotations[\"schizophrenia_subtype\"] = [\"type1\", \"type2\", \"type3\", \"type4\", \"type5\"] * int(\n    n_rows / 5\n)\ndset.annotations[\"schizophrenia_subtype\"] = (\n    dset.annotations[\"schizophrenia_subtype\"].sample(frac=1).reset_index(drop=True)\n)  # random shuffle drug_status column"
      ]
    },
    {
      "cell_type": "markdown",
      "metadata": {},
      "source": [
        "## Estimation of group-specific spatial intensity functions\nCBMR can generate estimation of group-specific spatial internsity\nfunctions for multiple groups simultaneously, with different group-specific\nspatial regression coefficients.\n\nCBMR can also consider the effects of study-level moderators\n(e.g. sample size, year of publication) by estimating regression coefficients\nof moderators (shared by all groups).\n\nNote that study-level moderators can only have global effects instead of localized\neffects within CBMR framework. In the scenario that there're multiple subgroups\nwithin a group, while one or more of them don't have enough number of studies to be\ninferred as a separate group, CBMR can interpret them as categorical study-level moderators.\n\n"
      ]
    },
    {
      "cell_type": "code",
      "execution_count": null,
      "metadata": {
        "collapsed": false
      },
      "outputs": [],
      "source": [
        "from nimare.meta.cbmr import CBMREstimator\n\ndset = StandardizeField(fields=[\"sample_sizes\", \"avg_age\"]).transform(dset)\n\ncbmr = CBMREstimator(\n    group_categories=[\"diagnosis\", \"drug_status\"],\n    moderators=[\n        \"standardized_sample_sizes\",\n        \"standardized_avg_age\",\n        \"schizophrenia_subtype:reference=type1\",\n    ],\n    spline_spacing=100,  # a reasonable choice is 10 or 5, 100 is for speed\n    model=models.PoissonEstimator,\n    penalty=False,\n    lr=1e-1,\n    tol=1e3, # a reasonable choice is 1e-1 or 1e-2, 1e3 is for speed\n    device=\"cpu\", # \"cuda\" if you have GPU\n)\nresults = cbmr.fit(dataset=dset)\nplot_stat_map(\n    results.get_map(\"spatialIntensity_group-SchizophreniaYes\"),\n    cut_coords=[0, 0, -8],\n    draw_cross=False,\n    cmap=\"RdBu_r\",\n    title=\"Schizophrenia with drug treatment\",\n    threshold=1e-4,\n)\nplot_stat_map(\n    results.get_map(\"spatialIntensity_group-SchizophreniaNo\"),\n    cut_coords=[0, 0, -8],\n    draw_cross=False,\n    cmap=\"RdBu_r\",\n    title=\"Schizophrenia without drug treatment\",\n    threshold=1e-4,\n)\nplot_stat_map(\n    results.get_map(\"spatialIntensity_group-DepressionYes\"),\n    cut_coords=[0, 0, -8],\n    draw_cross=False,\n    cmap=\"RdBu_r\",\n    title=\"Depression with drug treatment\",\n    threshold=1e-4,\n)\nplot_stat_map(\n    results.get_map(\"spatialIntensity_group-DepressionNo\"),\n    cut_coords=[0, 0, -8],\n    draw_cross=False,\n    cmap=\"RdBu_r\",\n    title=\"Depression without drug treatment\",\n    threshold=1e-4,\n)"
      ]
    },
    {
      "cell_type": "markdown",
      "metadata": {},
      "source": [
        "Four figures correspond to group-specific spatial intensity map of four groups\n(\"schizophreniaYes\", \"schizophreniaNo\", \"depressionYes\", \"depressionNo\").\nAreas with stronger spatial intensity are highlighted.\n\n"
      ]
    },
    {
      "cell_type": "markdown",
      "metadata": {},
      "source": [
        "## Generalized Linear Hypothesis (GLH) testing for spatial homogeneity\nIn the most basic scenario of spatial homogeneity test, contrast matrix `t_con_groups`\ncan be generated by `create_contrast` function, with group names specified.\n\n"
      ]
    },
    {
      "cell_type": "code",
      "execution_count": null,
      "metadata": {
        "collapsed": false
      },
      "outputs": [],
      "source": [
        "from nimare.meta.cbmr import CBMRInference\n\ninference = CBMRInference(device=\"cuda\")\ninference.fit(result=results)\nt_con_groups = inference.create_contrast(\n    [\"SchizophreniaYes\", \"SchizophreniaNo\", \"DepressionYes\", \"DepressionNo\"], source=\"groups\"\n)\ncontrast_result = inference.transform(t_con_groups=t_con_groups)\n\n# generate z-score maps for group-wise spatial homogeneity test\nplot_stat_map(\n    contrast_result.get_map(\"z_group-SchizophreniaYes\"),\n    cut_coords=[0, 0, -8],\n    draw_cross=False,\n    cmap=\"RdBu_r\",\n    title=\"SchizophreniaYes\",\n    threshold=scipy.stats.norm.isf(0.05),\n)\n\nplot_stat_map(\n    contrast_result.get_map(\"z_group-SchizophreniaNo\"),\n    cut_coords=[0, 0, -8],\n    draw_cross=False,\n    cmap=\"RdBu_r\",\n    title=\"SchizophreniaNo\",\n    threshold=scipy.stats.norm.isf(0.05),\n)\n\nplot_stat_map(\n    contrast_result.get_map(\"z_group-DepressionYes\"),\n    cut_coords=[0, 0, -8],\n    draw_cross=False,\n    cmap=\"RdBu_r\",\n    title=\"DepressionYes\",\n    threshold=scipy.stats.norm.isf(0.05),\n)\n\nplot_stat_map(\n    contrast_result.get_map(\"z_group-DepressionNo\"),\n    cut_coords=[0, 0, -8],\n    draw_cross=False,\n    cmap=\"RdBu_r\",\n    title=\"DepressionNo\",\n    threshold=scipy.stats.norm.isf(0.05),\n)"
      ]
    },
    {
      "cell_type": "markdown",
      "metadata": {},
      "source": [
        "Four figures (displayed as z-statistics map) correspond to homogeneity test of\ngroup-specific spatial intensity for four groups. The null hypothesis assumes\nhomogeneous spatial intensity over the whole brain,\n$H_0: \\mu_j = \\mu_0 = sum(n_{\\text{foci}})/N$, $j=1, \\cdots, N$, where $N$ is\nthe number of voxels within brain mask, $j$ is the index of voxel. Areas with\nsignificant p-values are highlighted (under significance level $0.05$).\n\n"
      ]
    },
    {
      "cell_type": "markdown",
      "metadata": {},
      "source": [
        "## Perform fasle discovery rate (FDR) correction on spatial homogeneity test\nThe default FDR correction method is \"indep\", using Benjamini-Hochberg(BH) procedure.\n\n"
      ]
    },
    {
      "cell_type": "code",
      "execution_count": null,
      "metadata": {
        "collapsed": false
      },
      "outputs": [],
      "source": [
        "from nimare.correct import FDRCorrector\n\ncorr = FDRCorrector(method=\"indep\", alpha=0.05)\ncres = corr.transform(contrast_result)\n\n# generate FDR corrected z-score maps for group-wise spatial homogeneity test\nplot_stat_map(\n    cres.get_map(\"z_group-SchizophreniaYes_corr-FDR_method-indep\"),\n    cut_coords=[0, 0, -8],\n    draw_cross=False,\n    cmap=\"RdBu_r\",\n    title=\"Schizophrenia with drug treatment (FDR corrected)\",\n    threshold=scipy.stats.norm.isf(0.05),\n)\n\nplot_stat_map(\n    cres.get_map(\"z_group-SchizophreniaNo_corr-FDR_method-indep\"),\n    cut_coords=[0, 0, -8],\n    draw_cross=False,\n    cmap=\"RdBu_r\",\n    title=\"Schizophrenia without drug treatment (FDR corrected)\",\n    threshold=scipy.stats.norm.isf(0.05),\n)\n\nplot_stat_map(\n    cres.get_map(\"z_group-DepressionYes_corr-FDR_method-indep\"),\n    cut_coords=[0, 0, -8],\n    draw_cross=False,\n    cmap=\"RdBu_r\",\n    title=\"Depression with drug treatment (FDR corrected)\",\n    threshold=scipy.stats.norm.isf(0.05),\n)\n\nplot_stat_map(\n    cres.get_map(\"z_group-DepressionNo_corr-FDR_method-indep\"),\n    cut_coords=[0, 0, -8],\n    draw_cross=False,\n    cmap=\"RdBu_r\",\n    title=\"Depression without drug treatment (FDR corrected)\",\n    threshold=scipy.stats.norm.isf(0.05),\n)"
      ]
    },
    {
      "cell_type": "markdown",
      "metadata": {},
      "source": [
        "After FDR correction (via BH procedure), areas with stronger spatial intensity\nare more stringent, (the number of voxels with significant p-values is reduced).\n\n"
      ]
    },
    {
      "cell_type": "markdown",
      "metadata": {},
      "source": [
        "## GLH testing for group comparisons among any two groups\nIn the most basic scenario of group comparison test, contrast matrix `t_con_groups`\ncan be generated by `create_contrast` function, with `contrast_name` specified as\n\"group1-group2\".\n\n"
      ]
    },
    {
      "cell_type": "code",
      "execution_count": null,
      "metadata": {
        "collapsed": false
      },
      "outputs": [],
      "source": [
        "t_con_groups = inference.create_contrast(\n    [\n        \"SchizophreniaYes-SchizophreniaNo\",\n        \"SchizophreniaNo-DepressionNo\",\n        \"DepressionYes-DepressionNo\",\n    ],\n    source=\"groups\",\n)\ncontrast_result = inference.transform(t_con_groups=t_con_groups, t_con_moderators=False)\n\n# generate z-statistics maps for each group\nplot_stat_map(\n    contrast_result.get_map(\"z_group-SchizophreniaYes-SchizophreniaNo\"),\n    cut_coords=[0, 0, -8],\n    draw_cross=False,\n    cmap=\"RdBu_r\",\n    title=\"Drug Treatment Effect for Schizophrenia\",\n    threshold=scipy.stats.norm.isf(0.4),\n)\n\nplot_stat_map(\n    contrast_result.get_map(\"z_group-SchizophreniaNo-DepressionNo\"),\n    cut_coords=[0, 0, -8],\n    draw_cross=False,\n    cmap=\"RdBu_r\",\n    title=\"Untreated Schizophrenia vs. Untreated Depression\",\n    threshold=scipy.stats.norm.isf(0.4),\n)\n\nplot_stat_map(\n    contrast_result.get_map(\"z_group-DepressionYes-DepressionNo\"),\n    cut_coords=[0, 0, -8],\n    draw_cross=False,\n    cmap=\"RdBu_r\",\n    title=\"Drug Treatment Effect for Depression\",\n    threshold=scipy.stats.norm.isf(0.4),\n)"
      ]
    },
    {
      "cell_type": "markdown",
      "metadata": {},
      "source": [
        "Four figures (displayed as z-statistics map) correspond to group comparison\ntest of spatial intensity for any two groups. The null hypothesis assumes\nspatial intensity estimations of two groups are equal at voxel level,\n$H_0: \\mu_{1j}=\\mu_{2j}$, $j=1, \\cdots, N$, where $N$ is the number of voxels\nwithin brain mask, $j$ is the index of voxel. Areas with significant p-values\n(significant difference in spatial intensity estimation between two groups)\nare highlighted (under significance level $0.05$).\n\n"
      ]
    },
    {
      "cell_type": "markdown",
      "metadata": {},
      "source": [
        "## GLH testing with contrast matrix specified\nCBMR supports more flexible GLH test by specifying a contrast matrix.\nFor example, group comparison test `2xgroup_0-1xgroup_1-1xgroup_2` can be\nrepresented as `t_con_group=[2, -1, -1, 0]`, as an input in `compute_contrast`\nfunction. Multiple independent GLH tests can be conducted simultaneously by\nincluding multiple contrast vectors/matrices in `t_con_group`.\n\nCBMR also allows simultaneous GLH tests (consisting of multiple contrast vectors)\nwhen it's represented as one of elements in `t_con_group` (datatype: list).\nOnly if all of null hypotheses are rejected at voxel level, p-values are significant.\nFor example, `t_con_group=[[1,-1,0,0], [1,0,-1,0], [0,0,1,-1]]` is used for testing\nthe equality of spatial intensity estimation among all of four groups (finding the\nconsistent activation regions). Note that only $n-1$ contrast vectors are necessary\nfor testing the equality of $n$ groups.\n\n"
      ]
    },
    {
      "cell_type": "code",
      "execution_count": null,
      "metadata": {
        "collapsed": false
      },
      "outputs": [],
      "source": [
        "contrast_result = inference.transform(\n    t_con_groups=[[[1, -1, 0, 0], [1, 0, -1, 0], [0, 0, 1, -1]]], t_con_moderators=False\n)\nplot_stat_map(\n    contrast_result.get_map(\"z_GLH_groups_0\"),\n    cut_coords=[0, 0, -8],\n    draw_cross=False,\n    cmap=\"RdBu_r\",\n    title=\"GLH_groups_0\",\n    threshold=scipy.stats.norm.isf(0.4),\n)\nprint(\"The contrast matrix of GLH_0 is {}\".format(contrast_result.metadata[\"GLH_groups_0\"]))"
      ]
    },
    {
      "cell_type": "markdown",
      "metadata": {},
      "source": [
        "## GLH testing for study-level moderators\nCBMR framework can estimate global study-level moderator effects,\nand allows inference on the existence of m.\n\n"
      ]
    },
    {
      "cell_type": "code",
      "execution_count": null,
      "metadata": {
        "collapsed": false
      },
      "outputs": [],
      "source": [
        "contrast_name = results.estimator.moderators\nt_con_moderators = inference.create_contrast(contrast_name, source=\"moderators\")\ncontrast_result = inference.transform(t_con_moderators=t_con_moderators)\nprint(contrast_result.tables[\"moderators_regression_coef\"])\nprint(\n    \"P-values of moderator effects `sample_sizes` is {}\".format(\n        contrast_result.tables[\"p_standardized_sample_sizes\"]\n    )\n)\nprint(\n    \"P-value of moderator effects `avg_age` is {}\".format(\n        contrast_result.tables[\"p_standardized_avg_age\"]\n    )\n)"
      ]
    },
    {
      "cell_type": "markdown",
      "metadata": {},
      "source": [
        "This table shows the regression coefficients of study-level moderators, here,\n`sample_sizes` and `avg_age` are standardized in the preprocessing steps.\nModerator effects of both `sample_size` and `avg_age` are not significant under\nsignificance level $0.05$. With reference to spatial intensity estimation of\na chosen subtype, spatial intensity estimations of the other $4$ subtypes of\nschizophrenia are moderatored globally.\n\n"
      ]
    },
    {
      "cell_type": "code",
      "execution_count": null,
      "metadata": {
        "collapsed": false
      },
      "outputs": [],
      "source": [
        "t_con_moderators = inference.create_contrast(\n    [\"standardized_sample_sizes-standardized_avg_age\"], source=\"moderators\"\n)\ncontrast_result = inference.transform(t_con_moderators=t_con_moderators)\nprint(\n    \"P-values of difference in two moderator effectors (`sample_size-avg_age`) is {}\".format(\n        contrast_result.tables[\"p_standardized_sample_sizes-standardized_avg_age\"]\n    )\n)"
      ]
    },
    {
      "cell_type": "markdown",
      "metadata": {},
      "source": [
        "CBMR also allows flexible contrasts between study-level covariates.\nFor example, we can write `contrast_name` (an input to `create_contrast`\nfunction) as `standardized_sample_sizes-standardized_avg_age` when exploring\nif the moderator effects of `sample_sizes` and `avg_age` are equivalent.\n\n"
      ]
    }
  ],
  "metadata": {
    "kernelspec": {
      "display_name": "Python 3",
      "language": "python",
      "name": "python3"
    },
    "language_info": {
      "codemirror_mode": {
        "name": "ipython",
        "version": 3
      },
      "file_extension": ".py",
      "mimetype": "text/x-python",
      "name": "python",
      "nbconvert_exporter": "python",
      "pygments_lexer": "ipython3",
      "version": "3.8.8"
    }
  },
  "nbformat": 4,
  "nbformat_minor": 0
}