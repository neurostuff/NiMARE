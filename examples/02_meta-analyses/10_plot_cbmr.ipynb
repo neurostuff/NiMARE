{
  "cells": [
    {
      "cell_type": "code",
      "execution_count": null,
      "metadata": {
        "collapsed": false
      },
      "outputs": [],
      "source": [
        "%matplotlib inline"
      ]
    },
    {
      "cell_type": "markdown",
      "metadata": {},
      "source": [
        "\n# Coordinate-based meta-regression algorithms\n\nA tour of CBMR algorithms in NiMARE\n\nThis tutorial is intended to provide a brief description and example of the CBMR\nalgorithm implemented in NiMARE. For a more detailed introduction to the elements\nof a coordinate-based meta-regression, see other stuff.\n"
      ]
    },
    {
      "cell_type": "code",
      "execution_count": null,
      "metadata": {
        "collapsed": false
      },
      "outputs": [],
      "source": [
        "from nimare.tests.utils import standardize_field\nfrom nimare.meta import models\n\nfrom nilearn.plotting import plot_stat_map\nfrom nimare.generate import create_coordinate_dataset\n\nimport numpy as np\nimport scipy"
      ]
    },
    {
      "cell_type": "markdown",
      "metadata": {},
      "source": [
        "## Load Dataset\n\n"
      ]
    },
    {
      "cell_type": "code",
      "execution_count": null,
      "metadata": {
        "collapsed": false
      },
      "outputs": [],
      "source": [
        "# data simulation\nground_truth_foci, dset = create_coordinate_dataset(foci=10, sample_size=(20, 40), n_studies=1000)\n# set up group columns: diagnosis & drug_status\nn_rows = dset.annotations.shape[0]\ndset.annotations[\"diagnosis\"] = [\n    \"schizophrenia\" if i % 2 == 0 else \"depression\" for i in range(n_rows)\n]\ndset.annotations[\"drug_status\"] = [\"Yes\" if i % 2 == 0 else \"No\" for i in range(n_rows)]\ndset.annotations[\"drug_status\"] = (\n    dset.annotations[\"drug_status\"].sample(frac=1).reset_index(drop=True)\n)  # random shuffle drug_status column\n# set up continuous moderators: sample sizes & avg_age\ndset.annotations[\"sample_sizes\"] = [dset.metadata.sample_sizes[i][0] for i in range(n_rows)]\ndset.annotations[\"avg_age\"] = np.arange(n_rows)\n# set up categorical moderators: schizophrenia_subtype (as not enough data to be interpreted\n# as groups)\ndset.annotations[\"schizophrenia_subtype\"] = [\"type1\", \"type2\", \"type3\", \"type4\", \"type5\"] * int(\n    n_rows / 5\n)\ndset.annotations[\"schizophrenia_subtype\"] = (\n    dset.annotations[\"schizophrenia_subtype\"].sample(frac=1).reset_index(drop=True)\n)  # random shuffle drug_status column"
      ]
    },
    {
      "cell_type": "markdown",
      "metadata": {},
      "source": [
        "## Estimation of group-specific spatial intensity functions\nUnlike kernel-based CBMR methods (e.g. ALE, MKDA and SDM), CBMR provides a\ngenerative regression model that estimates a smooth intensity function and\ncan have study-level moderators. It's developed with a spatial model to\ninduce a smooth response and model the entire image jointly, and fitted with\ndifferent variants of statistical distributions (Poisson, Negative Binomial\n(NB) or Clustered NB model) to find the most accurate but parsimonious model.\n\nCBMR framework can generate estimation of group-specific spatial internsity\nfunctions for multiple groups simultaneously, with different group-specific\nspatial regression coefficients.\n\nCBMR framework can also consider the effects of study-level moderators\n(e.g. sample size, year of publication) by estimating regression coefficients\nof moderators (shared by all groups). Note that moderators can only have global\neffects instead of localized effects within CBMR framework. In the scenario\nthat there're multiple subgroups within a group, while one or more of them don't\nhave enough number of studies to be inferred as a separate group, CBMR can\ninterpret them as categorical study-level moderators.\n\n"
      ]
    },
    {
      "cell_type": "code",
      "execution_count": null,
      "metadata": {
        "collapsed": false
      },
      "outputs": [],
      "source": [
        "from nimare.meta.cbmr import CBMREstimator\n\ndset = standardize_field(dataset=dset, metadata=[\"sample_sizes\", \"avg_age\"])\ncbmr = CBMREstimator(\n    group_categories=[\"diagnosis\", \"drug_status\"],\n    moderators=[\n        \"standardized_sample_sizes\",\n        \"standardized_avg_age\",\n        \"schizophrenia_subtype:reference=type1\",\n    ],\n    spline_spacing=10,\n    model=models.PoissonEstimator,\n    penalty=False,\n    lr=1e-1,\n    tol=1e1,\n    device=\"cpu\",\n)\nresults = cbmr.fit(dataset=dset)\nplot_stat_map(\n    results.get_map(\"Group_schizophrenia_Yes_Studywise_Spatial_Intensity\"),\n    cut_coords=[0, 0, -8],\n    draw_cross=False,\n    cmap=\"RdBu_r\",\n    title=\"schizophrenia_Yes\",\n    threshold=1e-4,\n)\nplot_stat_map(\n    results.get_map(\"Group_schizophrenia_No_Studywise_Spatial_Intensity\"),\n    cut_coords=[0, 0, -8],\n    draw_cross=False,\n    cmap=\"RdBu_r\",\n    title=\"schizophrenia_No\",\n    threshold=1e-4,\n)\nplot_stat_map(\n    results.get_map(\"Group_depression_Yes_Studywise_Spatial_Intensity\"),\n    cut_coords=[0, 0, -8],\n    draw_cross=False,\n    cmap=\"RdBu_r\",\n    title=\"depression_Yes\",\n    threshold=1e-4,\n)\nplot_stat_map(\n    results.get_map(\"Group_depression_No_Studywise_Spatial_Intensity\"),\n    cut_coords=[0, 0, -8],\n    draw_cross=False,\n    cmap=\"RdBu_r\",\n    title=\"depression_No\",\n    threshold=1e-4,\n)"
      ]
    },
    {
      "cell_type": "markdown",
      "metadata": {},
      "source": [
        "Four figures correspond to group-specific spatial intensity map of four groups\n(\"schizophrenia_Yes\", \"schizophrenia_No\", \"depression_Yes\", \"depression_No\").\nAreas with stronger spatial intensity are highlighted.\n\n"
      ]
    },
    {
      "cell_type": "markdown",
      "metadata": {},
      "source": [
        "## Generalized Linear Hypothesis (GLH) testing for spatial homogeneity\nIn the most basic scenario of spatial homogeneity test, contrast matrix `t_con_groups`\ncan be generated by `create_contrast` function, with group names specified.\n\n"
      ]
    },
    {
      "cell_type": "code",
      "execution_count": null,
      "metadata": {
        "collapsed": false
      },
      "outputs": [],
      "source": [
        "from nimare.meta.cbmr import CBMRInference\nfrom nimare.correct import FWECorrector\n\ninference = CBMRInference(CBMRResults=results, device=\"cuda\")\nt_con_groups = inference.create_contrast(\n    [\"schizophrenia_Yes\", \"schizophrenia_No\", \"depression_Yes\", \"depression_No\"], type=\"groups\"\n)\ncontrast_result = inference.compute_contrast(t_con_groups=t_con_groups, t_con_moderators=False)\n\n# generate chi-square maps for each group\nplot_stat_map(\n    results.get_map(\"schizophrenia_Yes_z_statistics\"),\n    cut_coords=[0, 0, -8],\n    draw_cross=False,\n    cmap=\"RdBu_r\",\n    title=\"schizophrenia_Yes\",\n    threshold=scipy.stats.norm.isf(0.05),\n)\n\nplot_stat_map(\n    results.get_map(\"schizophrenia_No_z_statistics\"),\n    cut_coords=[0, 0, -8],\n    draw_cross=False,\n    cmap=\"RdBu_r\",\n    title=\"schizophrenia_No\",\n    threshold=scipy.stats.norm.isf(0.05),\n)\n\nplot_stat_map(\n    results.get_map(\"depression_Yes_z_statistics\"),\n    cut_coords=[0, 0, -8],\n    draw_cross=False,\n    cmap=\"RdBu_r\",\n    title=\"depression_Yes\",\n    threshold=scipy.stats.norm.isf(0.05),\n)\n\nplot_stat_map(\n    results.get_map(\"depression_No_z_statistics\"),\n    cut_coords=[0, 0, -8],\n    draw_cross=False,\n    cmap=\"RdBu_r\",\n    title=\"depression_No\",\n    threshold=scipy.stats.norm.isf(0.05),\n)"
      ]
    },
    {
      "cell_type": "markdown",
      "metadata": {},
      "source": [
        "Four figures (displayed as z-statistics map) correspond to homogeneity test of\ngroup-specific spatial intensity for four groups. The null hypothesis assumes\nhomogeneous spatial intensity over the whole brain,\n$H_0: \\mu_j = \\mu_0 = sum(n_{\\text{foci}})/N$, $j=1, \\cdots, N$, where $N$ is\nthe number of voxels within brain mask, $j$ is the index of voxel. Areas with\nsignificant p-values are highlighted (under significance level $0.05$).\n\n"
      ]
    },
    {
      "cell_type": "markdown",
      "metadata": {},
      "source": [
        "## GLH testing for group comparisons among any two groups\nIn the most basic scenario of group comparison test, contrast matrix `t_con_groups`\ncan be generated by `create_contrast` function, with `contrast_name` specified as\n\"group1-group2\".\n\n"
      ]
    },
    {
      "cell_type": "code",
      "execution_count": null,
      "metadata": {
        "collapsed": false
      },
      "outputs": [],
      "source": [
        "inference = CBMRInference(CBMRResults=results, device=\"cuda\")\nt_con_groups = inference.create_contrast(\n    [\n        \"schizophrenia_Yes-schizophrenia_No\",\n        \"schizophrenia_No-depression_Yes\",\n        \"depression_Yes-depression_No\",\n    ],\n    type=\"groups\",\n)\ncontrast_result = inference.compute_contrast(t_con_groups=t_con_groups, t_con_moderators=False)\n\n# generate z-statistics maps for each group\nplot_stat_map(\n    results.get_map(\"schizophrenia_Yes-schizophrenia_No_z_statistics\"),\n    cut_coords=[0, 0, -8],\n    draw_cross=False,\n    cmap=\"RdBu_r\",\n    title=\"schizophrenia_Yes\",\n    threshold=scipy.stats.norm.isf(0.4),\n)\n\nplot_stat_map(\n    results.get_map(\"schizophrenia_No-depression_Yes_z_statistics\"),\n    cut_coords=[0, 0, -8],\n    draw_cross=False,\n    cmap=\"RdBu_r\",\n    title=\"schizophrenia_No\",\n    threshold=scipy.stats.norm.isf(0.4),\n)\n\nplot_stat_map(\n    results.get_map(\"depression_Yes-depression_No_z_statistics\"),\n    cut_coords=[0, 0, -8],\n    draw_cross=False,\n    cmap=\"RdBu_r\",\n    title=\"depression_Yes\",\n    threshold=scipy.stats.norm.isf(0.4),\n)"
      ]
    },
    {
      "cell_type": "markdown",
      "metadata": {},
      "source": [
        "Four figures (displayed as z-statistics map) correspond to group comparison\ntest of spatial intensity for any two groups. The null hypothesis assumes\nspatial intensity estimations of two groups are equal at voxel level,\n$H_0: \\mu_{1j}=\\mu_{2j}$, $j=1, \\cdots, N$, where $N$ is the number of voxels\nwithin brain mask, $j$ is the index of voxel. Areas with significant p-values\n(significant difference in spatial intensity estimation between two groups)\nare highlighted (under significance level $0.05$).\n\n"
      ]
    },
    {
      "cell_type": "markdown",
      "metadata": {},
      "source": [
        "## GLH testing with contrast matrix specified\nCBMR supports more flexible GLH test by specifying a contrast matrix.\nFor example, group comparison test `2xgroup_0-1xgroup_1-1xgroup_2` can be\nrepresented as `t_con_group=[2, -1, -1, 0]`, as an input in `compute_contrast`\nfunction. Multiple independent GLH tests can be conducted simultaneously by\nincluding multiple contrast vectors/matrices in `t_con_group`.\n\nCBMR also allows simultaneous GLH tests (consisting of multiple contrast vectors)\nwhen it's represented as one of elements in `t_con_group` (datatype: list).\nOnly if all of null hypotheses are rejected at voxel level, p-values are significant.\nFor example, `t_con_group=[[1,-1,0,0], [1,0,-1,0], [0,0,1,-1]]` is used for testing\nthe equality of spatial intensity estimation among all of four groups (finding the\nconsistent activation regions). Note that only $n-1$ contrast vectors are necessary\nfor testing the equality of $n$ groups.\n\n"
      ]
    },
    {
      "cell_type": "code",
      "execution_count": null,
      "metadata": {
        "collapsed": false
      },
      "outputs": [],
      "source": [
        "inference = CBMRInference(CBMRResults=results, device=\"cuda\")\ncontrast_result = inference.compute_contrast(\n    t_con_groups=[[[1, -1, 0, 0], [1, 0, -1, 0], [0, 0, 1, -1]]], t_con_moderators=False\n)\nplot_stat_map(\n    results.get_map(\"GLH_groups_0_z_statistics\"),\n    cut_coords=[0, 0, -8],\n    draw_cross=False,\n    cmap=\"RdBu_r\",\n    title=\"GLH_groups_0\",\n    threshold=scipy.stats.norm.isf(0.4),\n)\nprint(\"The contrast matrix of GLH_0 is {}\".format(results.metadata[\"GLH_groups_0\"]))"
      ]
    },
    {
      "cell_type": "markdown",
      "metadata": {},
      "source": [
        "## GLH testing for study-level moderators\nCBMR framework can estimate global study-level moderator effects,\nand allows inference on the existence of m.\n\n"
      ]
    },
    {
      "cell_type": "code",
      "execution_count": null,
      "metadata": {
        "collapsed": false
      },
      "outputs": [],
      "source": [
        "inference = CBMRInference(CBMRResults=results, device=\"cuda\")\ncontrast_name = results.estimator.moderators\nt_con_moderators = inference.create_contrast(contrast_name, type=\"moderators\")\ncontrast_result = inference.compute_contrast(t_con_groups=False, t_con_moderators=t_con_moderators)\nprint(results.tables[\"Moderators_Regression_Coef\"])\nprint(\n    \"P-values of moderator effects `sample_sizes` is {}\".format(\n        results.tables[\"standardized_sample_sizes_p_values\"]\n    )\n)\nprint(\n    \"P-value of moderator effects `avg_age` is {}\".format(\n        results.tables[\"standardized_avg_age_p_values\"]\n    )\n)"
      ]
    },
    {
      "cell_type": "markdown",
      "metadata": {},
      "source": [
        "This table shows the regression coefficients of study-level moderators, here,\n`sample_sizes` and `avg_age` are standardized in the preprocessing steps.\nModerator effects of both `sample_size` and `avg_age` are not significant under\nsignificance level $0.05$. With reference to spatial intensity estimation of\na chosen subtype, spatial intensity estimations of the other $4$ subtypes of\nschizophrenia are moderatored globally.\n\n"
      ]
    },
    {
      "cell_type": "code",
      "execution_count": null,
      "metadata": {
        "collapsed": false
      },
      "outputs": [],
      "source": [
        "inference = CBMRInference(CBMRResults=results, device=\"cuda\")\nt_con_moderators = inference.create_contrast(\n    [\"standardized_sample_sizes-standardized_avg_age\"], type=\"moderators\"\n)\ncontrast_result = inference.compute_contrast(t_con_groups=False, t_con_moderators=t_con_moderators)\nprint(\n    \"P-values of difference in two moderator effectors (`sample_size-avg_age`) is {}\".format(\n        results.tables[\"standardized_sample_sizes-standardized_avg_age_p_values\"]\n    )\n)"
      ]
    },
    {
      "cell_type": "markdown",
      "metadata": {},
      "source": [
        "CBMR also allows flexible contrasts between study-level covariates.\nFor example, we can write `contrast_name` (an input to `create_contrast`\nfunction) as `standardized_sample_sizes-standardized_avg_age` when exploring\nif the moderator effects of `sample_sizes` and `avg_age` are equivalent.\n\n"
      ]
    }
  ],
  "metadata": {
    "kernelspec": {
      "display_name": "Python 3",
      "language": "python",
      "name": "python3"
    },
    "language_info": {
      "codemirror_mode": {
        "name": "ipython",
        "version": 3
      },
      "file_extension": ".py",
      "mimetype": "text/x-python",
      "name": "python",
      "nbconvert_exporter": "python",
      "pygments_lexer": "ipython3",
      "version": "3.8.8"
    }
  },
  "nbformat": 4,
  "nbformat_minor": 0
}